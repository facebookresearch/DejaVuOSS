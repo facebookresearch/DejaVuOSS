{
 "cells": [
  {
   "cell_type": "code",
   "execution_count": 32,
   "metadata": {},
   "outputs": [],
   "source": [
    "import os\n",
    "import sys\n",
    "import numpy as np\n",
    "import pandas as pd\n",
    "\n",
    "module_path = os.path.abspath(os.path.join('..'))\n",
    "if module_path not in sys.path:\n",
    "    sys.path.append(module_path)\n",
    "\n",
    "from dejavuoob.utils.image_common import ImageFolderIndexWithPath, SSL_Transform\n",
    "\n",
    "from torch.utils.data import DataLoader\n",
    "from IPython.display import clear_output\n",
    "\n"
   ]
  },
  {
   "cell_type": "code",
   "execution_count": 33,
   "metadata": {},
   "outputs": [],
   "source": [
    "def get_confidence_and_topk(neighb_labels, k_neighbs = 100, topk = [1]):\n",
    "    from scipy.stats import entropy\n",
    "    import torch\n",
    "\n",
    "    #get class counts\n",
    "    class_cts = np.apply_along_axis(np.bincount, axis=1,\n",
    "                            arr=neighb_labels[:,:k_neighbs], minlength=1000)\n",
    "    #get confidence\n",
    "    attk_uncert = entropy(class_cts, axis = 1)\n",
    "    preds = {}\n",
    "    preds_values = {}\n",
    "    for k in topk:\n",
    "        topk_cts, topk_preds = torch.topk(torch.Tensor(class_cts), k, dim = 1)\n",
    "        topk_preds = np.array(topk_preds).astype(int)\n",
    "        preds[f'top_{k}'] = topk_preds\n",
    "        preds_values[f'top[k]'] = topk_cts\n",
    "\n",
    "    return -attk_uncert, preds"
   ]
  },
  {
   "cell_type": "code",
   "execution_count": 34,
   "metadata": {},
   "outputs": [
    {
     "data": {
      "text/plain": [
       "139183"
      ]
     },
     "execution_count": 34,
     "metadata": {},
     "output_type": "execute_result"
    }
   ],
   "source": [
    "\n",
    "VICREG_KNN_ROOT_PATH_MEM_OOB = '<PATH-TO-VICREG-OUTPUT>/dejavu/vicreg/attack_sweeps/NN_attk_vicregoob_bbox_B_bbox_A_blurred_05.10.2024'\n",
    "\n",
    "vicreg_bbox_attk_B_idxs_mem_oob = np.load(VICREG_KNN_ROOT_PATH_MEM_OOB + '/test_attk_A_attk_idxs.npy')\n",
    "vicreg_bbox_attk_B_labels_mem_oob = np.load(VICREG_KNN_ROOT_PATH_MEM_OOB + '/test_attk_A_labels.npy')\n",
    "vicreg_bbox_attk_B_neighb_labels_mem_oob = np.load(VICREG_KNN_ROOT_PATH_MEM_OOB + '/test_attk_A_neighb_labels.npy')\n",
    "vicreg_bbox_attk_B_neighb_idx_mem_oob = np.load(VICREG_KNN_ROOT_PATH_MEM_OOB + '/test_attk_A_neighb_idxs.npy')\n",
    "\n",
    "len(vicreg_bbox_attk_B_labels_mem_oob)"
   ]
  },
  {
   "cell_type": "code",
   "execution_count": 35,
   "metadata": {},
   "outputs": [
    {
     "data": {
      "text/plain": [
       "139183"
      ]
     },
     "execution_count": 35,
     "metadata": {},
     "output_type": "execute_result"
    }
   ],
   "source": [
    "# test on memorization for set B OOB\n",
    "\n",
    "vicreg_confidences_mem_oob, vicreg_pred_idxes_mem_oob = get_confidence_and_topk(vicreg_bbox_attk_B_neighb_labels_mem_oob)\n",
    "\n",
    "vicreg_confidences_mem_oob, vicreg_pred_idxes_mem_oob = vicreg_confidences_mem_oob, vicreg_pred_idxes_mem_oob['top_1']\n",
    "\n",
    "len(vicreg_confidences_mem_oob)"
   ]
  },
  {
   "cell_type": "code",
   "execution_count": 36,
   "metadata": {},
   "outputs": [],
   "source": [
    "#sorted(vicreg_confidences_mem_oob)[::-1]"
   ]
  },
  {
   "cell_type": "code",
   "execution_count": 37,
   "metadata": {},
   "outputs": [],
   "source": [
    "# load dataset mem oob\n",
    "img_dir = '<PATH-TO-IMAGENET-TRAIN>/train_blurred'\n",
    "vicreg_dataset = ImageFolderIndexWithPath(img_dir, SSL_Transform(), vicreg_bbox_attk_B_idxs_mem_oob)\n",
    "vicreg_dataloader_mem_oob = DataLoader(vicreg_dataset, batch_size = 1, shuffle = False, num_workers=8)"
   ]
  },
  {
   "cell_type": "code",
   "execution_count": 38,
   "metadata": {},
   "outputs": [],
   "source": [
    "predictions_to_save = []\n",
    "for (x, y, idx, path), label, confidence, pred in zip(vicreg_dataloader_mem_oob, vicreg_bbox_attk_B_labels_mem_oob, vicreg_confidences_mem_oob, vicreg_pred_idxes_mem_oob):\n",
    "    predictions_to_save.append([label[0], pred[0], confidence, path[0]])\n",
    "    \n",
    "columns = ['label_vmo', 'pred_vmo', 'conf_vmo', 'path_vmo']\n",
    "\n",
    "vicreg_predictions_knn_mem_oob = pd.DataFrame.from_records(np.array(predictions_to_save), columns=columns)\n",
    "\n",
    "vicreg_predictions_knn_mem_oob['path_vmo'] = vicreg_predictions_knn_mem_oob['path_vmo'].str.split('/').str[-1].str.split('.').str[0]\n",
    "vicreg_predictions_knn_mem_oob = vicreg_predictions_knn_mem_oob.sort_values(by = ['path_vmo'], ascending=True)\n"
   ]
  },
  {
   "cell_type": "markdown",
   "metadata": {},
   "source": [
    "<H2>Resnet starts here</H2>"
   ]
  },
  {
   "cell_type": "code",
   "execution_count": 39,
   "metadata": {},
   "outputs": [],
   "source": [
    "# resnet experiments go here\n",
    "\n",
    "predictions_resnet = np.load('<PATH-TO-RESNET-OUTPUT>/dejavu/resnet50_crops/eval/supervised_train_A_test_B_set_07_15_2024_wd_0.1_lars_mom_0.9_w_aug_eval3.npy')\n",
    "\n",
    "columns = ['label', 'pred', 'conf', 'y_conf', 'entropy', 'path']\n",
    "\n",
    "predictions_resnet = pd.DataFrame.from_records(np.array(predictions_resnet), columns=columns)\n",
    "predictions_resnet['path'] = predictions_resnet['path'].str.split('/').str[-1].str.split('.').str[0]\n",
    "predictions_resnet_srt = predictions_resnet.sort_values(by = ['path'], ascending=True)\n"
   ]
  },
  {
   "cell_type": "code",
   "execution_count": 40,
   "metadata": {},
   "outputs": [],
   "source": [
    "#sorted(list(predictions_resnet_srt['entropy']))"
   ]
  },
  {
   "cell_type": "code",
   "execution_count": 41,
   "metadata": {},
   "outputs": [],
   "source": [
    "result_res = pd.merge(vicreg_predictions_knn_mem_oob, predictions_resnet, how=\"inner\", left_on = 'path_vmo', right_on='path')\n",
    "\n",
    "cond1 = result_res['pred_vmo'] == result_res['label_vmo']\n",
    "result_res = result_res[cond1]\n",
    "\n",
    "cond1 = result_res['pred'] != result_res['label']\n",
    "result_res = result_res[cond1]\n",
    "\n",
    "result_res['conf_vmo'] = result_res['conf_vmo'].astype(np.float64)\n",
    "\n",
    "result_res['y_conf'] = result_res['y_conf'].astype(np.float64)\n",
    "\n",
    "result_res['entropy'] = result_res['entropy'].astype(np.float64)"
   ]
  },
  {
   "cell_type": "code",
   "execution_count": 42,
   "metadata": {},
   "outputs": [],
   "source": [
    "result_res['mem_final'] = result_res['entropy'] - result_res['conf_vmo'] * -1\n",
    "\n"
   ]
  },
  {
   "cell_type": "code",
   "execution_count": 43,
   "metadata": {},
   "outputs": [],
   "source": [
    "#result_res.sort_values(by=['mem_final']).head(50)"
   ]
  },
  {
   "cell_type": "code",
   "execution_count": 44,
   "metadata": {},
   "outputs": [],
   "source": [
    "result_res_sorted = result_res.sort_values(by=['mem_final'], ascending=False)\n"
   ]
  },
  {
   "cell_type": "code",
   "execution_count": 45,
   "metadata": {},
   "outputs": [],
   "source": [
    "#result_res_sorted[result_res_sorted['mem_final'] >= 0.0]"
   ]
  },
  {
   "cell_type": "code",
   "execution_count": 46,
   "metadata": {},
   "outputs": [],
   "source": [
    "#mem_scores = list(filter(lambda x: x > 0.1, np.clip(list(result_res['conf_vmo_exp'] - result_res['y_conf']), 0.0, 1.0)))\n",
    "\n",
    "mem_scores = list(result_res_sorted['mem_final'])#list(result_res_sorted[result_res_sorted['mem_final'] >= 0.0]['mem_final'])\n",
    "#mem_scores"
   ]
  },
  {
   "cell_type": "code",
   "execution_count": 47,
   "metadata": {},
   "outputs": [
    {
     "data": {
      "text/plain": [
       "'3.8.0'"
      ]
     },
     "execution_count": 47,
     "metadata": {},
     "output_type": "execute_result"
    }
   ],
   "source": [
    "import matplotlib\n",
    "\n",
    "matplotlib.__version__"
   ]
  },
  {
   "cell_type": "code",
   "execution_count": 48,
   "metadata": {},
   "outputs": [
    {
     "data": {
      "image/png": "[encoded data removed]",
      "text/plain": [
       "<Figure size 1000x600 with 1 Axes>"
      ]
     },
     "metadata": {},
     "output_type": "display_data"
    }
   ],
   "source": [
    "import matplotlib.pyplot as plt\n",
    "\n",
    "plt.figure(figsize=(10,6))\n",
    "n, bins, patches = plt.hist(mem_scores, 12, density=False, width=0.6, align = 'mid')  # density=False would make counts\n",
    "\n",
    "plt.ylabel('Counts', fontsize = 20)\n",
    "plt.xlabel('Memorization Confidence', fontsize = 20)\n",
    "\n",
    "plt.xticks(np.arange(-3.0, 7.0), fontsize = 15)\n",
    "plt.yticks(fontsize = 15)\n",
    "\n",
    "plt.grid(axis='y')\n",
    "\n",
    "for pos in ['right', 'top']: \n",
    "    plt.gca().spines[pos].set_visible(False) \n",
    "    \n",
    "plt.show()"
   ]
  },
  {
   "cell_type": "code",
   "execution_count": null,
   "metadata": {},
   "outputs": [],
   "source": []
  },
  {
   "cell_type": "code",
   "execution_count": null,
   "metadata": {},
   "outputs": [],
   "source": []
  }
 ],
 "metadata": {
  "kernelspec": {
   "display_name": "dejavu",
   "language": "python",
   "name": "python3"
  },
  "language_info": {
   "codemirror_mode": {
    "name": "ipython",
    "version": 3
   },
   "file_extension": ".py",
   "mimetype": "text/x-python",
   "name": "python",
   "nbconvert_exporter": "python",
   "pygments_lexer": "ipython3",
   "version": "3.9.16"
  }
 },
 "nbformat": 4,
 "nbformat_minor": 2
}
